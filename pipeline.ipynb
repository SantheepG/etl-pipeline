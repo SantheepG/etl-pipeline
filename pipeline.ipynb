{
 "cells": [
  {
   "cell_type": "code",
   "execution_count": 3,
   "id": "5449c4a9",
   "metadata": {},
   "outputs": [],
   "source": [
    "import pandas as pd"
   ]
  },
  {
   "cell_type": "code",
   "execution_count": 26,
   "id": "0ee27ab6",
   "metadata": {},
   "outputs": [],
   "source": [
    "customers = pd.read_excel(\"H+ Sport Customers.xlsx\")\n"
   ]
  },
  {
   "cell_type": "code",
   "execution_count": 25,
   "id": "ebfe9013",
   "metadata": {},
   "outputs": [
    {
     "data": {
      "text/plain": [
       "CustomerID    0\n",
       "FirstName     0\n",
       "LastName      0\n",
       "Email         0\n",
       "Phone         0\n",
       "Address       0\n",
       "City          0\n",
       "State         0\n",
       "Zipcode       0\n",
       "dtype: int64"
      ]
     },
     "execution_count": 25,
     "metadata": {},
     "output_type": "execute_result"
    }
   ],
   "source": [
    "customers.isnull().sum()"
   ]
  },
  {
   "cell_type": "markdown",
   "id": "e7491b4e",
   "metadata": {},
   "source": [
    "Customers"
   ]
  },
  {
   "cell_type": "code",
   "execution_count": 14,
   "id": "7d466740",
   "metadata": {},
   "outputs": [
    {
     "data": {
      "text/html": [
       "<div>\n",
       "<style scoped>\n",
       "    .dataframe tbody tr th:only-of-type {\n",
       "        vertical-align: middle;\n",
       "    }\n",
       "\n",
       "    .dataframe tbody tr th {\n",
       "        vertical-align: top;\n",
       "    }\n",
       "\n",
       "    .dataframe thead th {\n",
       "        text-align: right;\n",
       "    }\n",
       "</style>\n",
       "<table border=\"1\" class=\"dataframe\">\n",
       "  <thead>\n",
       "    <tr style=\"text-align: right;\">\n",
       "      <th></th>\n",
       "      <th>CustomerID</th>\n",
       "      <th>FirstName</th>\n",
       "      <th>LastName</th>\n",
       "      <th>Email</th>\n",
       "      <th>Phone</th>\n",
       "      <th>Address</th>\n",
       "      <th>City</th>\n",
       "      <th>State</th>\n",
       "      <th>Zipcode</th>\n",
       "    </tr>\n",
       "  </thead>\n",
       "  <tbody>\n",
       "    <tr>\n",
       "      <th>0</th>\n",
       "      <td>100</td>\n",
       "      <td>Carol</td>\n",
       "      <td>Shaw</td>\n",
       "      <td>cshaw0@mlb.com</td>\n",
       "      <td>(206)804-8771</td>\n",
       "      <td>8157 Longview Court</td>\n",
       "      <td>Seattle</td>\n",
       "      <td>WA</td>\n",
       "      <td>98121</td>\n",
       "    </tr>\n",
       "    <tr>\n",
       "      <th>1</th>\n",
       "      <td>101</td>\n",
       "      <td>Elizabeth</td>\n",
       "      <td>Carr</td>\n",
       "      <td>ecarr1@oracle.com</td>\n",
       "      <td>(512)187-2507</td>\n",
       "      <td>3934 Petterle Trail</td>\n",
       "      <td>Austin</td>\n",
       "      <td>TX</td>\n",
       "      <td>78732</td>\n",
       "    </tr>\n",
       "    <tr>\n",
       "      <th>2</th>\n",
       "      <td>102</td>\n",
       "      <td>Ernest</td>\n",
       "      <td>Ramos</td>\n",
       "      <td>eramos2@plala.or.jp</td>\n",
       "      <td>(816)540-4257</td>\n",
       "      <td>8699 Clarendon Terrace</td>\n",
       "      <td>Kansas City</td>\n",
       "      <td>MO</td>\n",
       "      <td>64199</td>\n",
       "    </tr>\n",
       "    <tr>\n",
       "      <th>3</th>\n",
       "      <td>103</td>\n",
       "      <td>Jane</td>\n",
       "      <td>Carter</td>\n",
       "      <td>jcarter3@harvard.edu</td>\n",
       "      <td>(214)839-0542</td>\n",
       "      <td>2830 Novick Lane</td>\n",
       "      <td>Irving</td>\n",
       "      <td>TX</td>\n",
       "      <td>75037</td>\n",
       "    </tr>\n",
       "    <tr>\n",
       "      <th>4</th>\n",
       "      <td>104</td>\n",
       "      <td>Martha</td>\n",
       "      <td>Cooper</td>\n",
       "      <td>mcooper4@go.com</td>\n",
       "      <td>(727)235-5696</td>\n",
       "      <td>4537 Hoard Lane</td>\n",
       "      <td>Tampa</td>\n",
       "      <td>FL</td>\n",
       "      <td>33625</td>\n",
       "    </tr>\n",
       "  </tbody>\n",
       "</table>\n",
       "</div>"
      ],
      "text/plain": [
       "   CustomerID  FirstName LastName                 Email          Phone  \\\n",
       "0         100      Carol     Shaw        cshaw0@mlb.com  (206)804-8771   \n",
       "1         101  Elizabeth     Carr     ecarr1@oracle.com  (512)187-2507   \n",
       "2         102     Ernest    Ramos   eramos2@plala.or.jp  (816)540-4257   \n",
       "3         103       Jane   Carter  jcarter3@harvard.edu  (214)839-0542   \n",
       "4         104     Martha   Cooper       mcooper4@go.com  (727)235-5696   \n",
       "\n",
       "                  Address         City State  Zipcode  \n",
       "0     8157 Longview Court      Seattle    WA    98121  \n",
       "1     3934 Petterle Trail       Austin    TX    78732  \n",
       "2  8699 Clarendon Terrace  Kansas City    MO    64199  \n",
       "3        2830 Novick Lane       Irving    TX    75037  \n",
       "4         4537 Hoard Lane        Tampa    FL    33625  "
      ]
     },
     "execution_count": 14,
     "metadata": {},
     "output_type": "execute_result"
    }
   ],
   "source": [
    "customers.head()"
   ]
  },
  {
   "cell_type": "code",
   "execution_count": 15,
   "id": "698d63e2",
   "metadata": {},
   "outputs": [],
   "source": [
    "columns_to_check = ['Email', 'Phone','FirstName', 'LastName']"
   ]
  },
  {
   "cell_type": "code",
   "execution_count": 17,
   "id": "1a51a851",
   "metadata": {},
   "outputs": [],
   "source": [
    "duplicates = customers[customers.duplicated(columns_to_check)]"
   ]
  },
  {
   "cell_type": "code",
   "execution_count": 20,
   "id": "a8c3459d",
   "metadata": {},
   "outputs": [
    {
     "data": {
      "text/html": [
       "<div>\n",
       "<style scoped>\n",
       "    .dataframe tbody tr th:only-of-type {\n",
       "        vertical-align: middle;\n",
       "    }\n",
       "\n",
       "    .dataframe tbody tr th {\n",
       "        vertical-align: top;\n",
       "    }\n",
       "\n",
       "    .dataframe thead th {\n",
       "        text-align: right;\n",
       "    }\n",
       "</style>\n",
       "<table border=\"1\" class=\"dataframe\">\n",
       "  <thead>\n",
       "    <tr style=\"text-align: right;\">\n",
       "      <th></th>\n",
       "      <th>CustomerID</th>\n",
       "      <th>FirstName</th>\n",
       "      <th>LastName</th>\n",
       "      <th>Email</th>\n",
       "      <th>Phone</th>\n",
       "      <th>Address</th>\n",
       "      <th>City</th>\n",
       "      <th>State</th>\n",
       "      <th>Zipcode</th>\n",
       "    </tr>\n",
       "  </thead>\n",
       "  <tbody>\n",
       "    <tr>\n",
       "      <th>1000</th>\n",
       "      <td>1100</td>\n",
       "      <td>Chris</td>\n",
       "      <td>Moreno</td>\n",
       "      <td>cmorenond@mac.com</td>\n",
       "      <td>(907)709-6086</td>\n",
       "      <td>8740 Oak Valley Park</td>\n",
       "      <td>Fairbanks</td>\n",
       "      <td>AK</td>\n",
       "      <td>99790</td>\n",
       "    </tr>\n",
       "    <tr>\n",
       "      <th>1001</th>\n",
       "      <td>1101</td>\n",
       "      <td>Gerald</td>\n",
       "      <td>Green</td>\n",
       "      <td>ggreenne@wisc.edu</td>\n",
       "      <td>(203)541-4782</td>\n",
       "      <td>242 Eastlawn Drive</td>\n",
       "      <td>New Haven</td>\n",
       "      <td>CT</td>\n",
       "      <td>6510</td>\n",
       "    </tr>\n",
       "    <tr>\n",
       "      <th>1002</th>\n",
       "      <td>1102</td>\n",
       "      <td>Johnny</td>\n",
       "      <td>Ruiz</td>\n",
       "      <td>jruiznf@nba.com</td>\n",
       "      <td>(202)731-4171</td>\n",
       "      <td>70917 Meadow Valley Crossing</td>\n",
       "      <td>Washington</td>\n",
       "      <td>DC</td>\n",
       "      <td>20337</td>\n",
       "    </tr>\n",
       "    <tr>\n",
       "      <th>1003</th>\n",
       "      <td>1103</td>\n",
       "      <td>Carlos</td>\n",
       "      <td>Morales</td>\n",
       "      <td>cmoralesng@ed.gov</td>\n",
       "      <td>(517)792-4134</td>\n",
       "      <td>8 Jay Way</td>\n",
       "      <td>Lansing</td>\n",
       "      <td>MI</td>\n",
       "      <td>48956</td>\n",
       "    </tr>\n",
       "    <tr>\n",
       "      <th>1004</th>\n",
       "      <td>1104</td>\n",
       "      <td>Gloria</td>\n",
       "      <td>Ramos</td>\n",
       "      <td>gramosnh@xing.com</td>\n",
       "      <td>(646)144-6692</td>\n",
       "      <td>32091 Ryan Street</td>\n",
       "      <td>New York City</td>\n",
       "      <td>NY</td>\n",
       "      <td>10110</td>\n",
       "    </tr>\n",
       "  </tbody>\n",
       "</table>\n",
       "</div>"
      ],
      "text/plain": [
       "      CustomerID FirstName LastName              Email          Phone  \\\n",
       "1000        1100     Chris   Moreno  cmorenond@mac.com  (907)709-6086   \n",
       "1001        1101    Gerald    Green  ggreenne@wisc.edu  (203)541-4782   \n",
       "1002        1102    Johnny     Ruiz    jruiznf@nba.com  (202)731-4171   \n",
       "1003        1103    Carlos  Morales  cmoralesng@ed.gov  (517)792-4134   \n",
       "1004        1104    Gloria    Ramos  gramosnh@xing.com  (646)144-6692   \n",
       "\n",
       "                           Address           City State  Zipcode  \n",
       "1000          8740 Oak Valley Park      Fairbanks    AK    99790  \n",
       "1001            242 Eastlawn Drive      New Haven    CT     6510  \n",
       "1002  70917 Meadow Valley Crossing     Washington    DC    20337  \n",
       "1003                     8 Jay Way        Lansing    MI    48956  \n",
       "1004             32091 Ryan Street  New York City    NY    10110  "
      ]
     },
     "execution_count": 20,
     "metadata": {},
     "output_type": "execute_result"
    }
   ],
   "source": [
    "duplicates.head()"
   ]
  },
  {
   "cell_type": "code",
   "execution_count": 22,
   "id": "e4d1bd4f",
   "metadata": {},
   "outputs": [
    {
     "data": {
      "text/plain": [
       "(29, 9)"
      ]
     },
     "execution_count": 22,
     "metadata": {},
     "output_type": "execute_result"
    }
   ],
   "source": [
    "duplicates.shape"
   ]
  },
  {
   "cell_type": "markdown",
   "id": "afc71cc6",
   "metadata": {},
   "source": [
    "duplicates removed customer data"
   ]
  },
  {
   "cell_type": "code",
   "execution_count": 23,
   "id": "3317ed40",
   "metadata": {},
   "outputs": [],
   "source": [
    "customers = customers[customers.duplicated(columns_to_check, keep='first')]"
   ]
  },
  {
   "cell_type": "markdown",
   "id": "0af7c6d4",
   "metadata": {},
   "source": [
    "Employees"
   ]
  },
  {
   "cell_type": "code",
   "execution_count": 27,
   "id": "8cf586fb",
   "metadata": {},
   "outputs": [],
   "source": [
    "employees = pd.read_excel(\"H+ Sport Employees.xlsx\")"
   ]
  },
  {
   "cell_type": "code",
   "execution_count": null,
   "id": "19656301",
   "metadata": {},
   "outputs": [
    {
     "data": {
      "text/html": [
       "<div>\n",
       "<style scoped>\n",
       "    .dataframe tbody tr th:only-of-type {\n",
       "        vertical-align: middle;\n",
       "    }\n",
       "\n",
       "    .dataframe tbody tr th {\n",
       "        vertical-align: top;\n",
       "    }\n",
       "\n",
       "    .dataframe thead th {\n",
       "        text-align: right;\n",
       "    }\n",
       "</style>\n",
       "<table border=\"1\" class=\"dataframe\">\n",
       "  <thead>\n",
       "    <tr style=\"text-align: right;\">\n",
       "      <th></th>\n",
       "      <th>Unnamed: 0</th>\n",
       "      <th>Unnamed: 1</th>\n",
       "      <th>Unnamed: 2</th>\n",
       "      <th>Unnamed: 3</th>\n",
       "    </tr>\n",
       "  </thead>\n",
       "  <tbody>\n",
       "    <tr>\n",
       "      <th>0</th>\n",
       "      <td>NaN</td>\n",
       "      <td>NaN</td>\n",
       "      <td>NaN</td>\n",
       "      <td>NaN</td>\n",
       "    </tr>\n",
       "    <tr>\n",
       "      <th>1</th>\n",
       "      <td>NaN</td>\n",
       "      <td>This document was exported from Numbers. Each ...</td>\n",
       "      <td>NaN</td>\n",
       "      <td>NaN</td>\n",
       "    </tr>\n",
       "    <tr>\n",
       "      <th>2</th>\n",
       "      <td>NaN</td>\n",
       "      <td>NaN</td>\n",
       "      <td>NaN</td>\n",
       "      <td>NaN</td>\n",
       "    </tr>\n",
       "    <tr>\n",
       "      <th>3</th>\n",
       "      <td>NaN</td>\n",
       "      <td>NaN</td>\n",
       "      <td>NaN</td>\n",
       "      <td>NaN</td>\n",
       "    </tr>\n",
       "    <tr>\n",
       "      <th>4</th>\n",
       "      <td>NaN</td>\n",
       "      <td>NaN</td>\n",
       "      <td>NaN</td>\n",
       "      <td>NaN</td>\n",
       "    </tr>\n",
       "  </tbody>\n",
       "</table>\n",
       "</div>"
      ],
      "text/plain": [
       "   Unnamed: 0                                         Unnamed: 1 Unnamed: 2  \\\n",
       "0         NaN                                                NaN        NaN   \n",
       "1         NaN  This document was exported from Numbers. Each ...        NaN   \n",
       "2         NaN                                                NaN        NaN   \n",
       "3         NaN                                                NaN        NaN   \n",
       "4         NaN                                                NaN        NaN   \n",
       "\n",
       "  Unnamed: 3  \n",
       "0        NaN  \n",
       "1        NaN  \n",
       "2        NaN  \n",
       "3        NaN  \n",
       "4        NaN  "
      ]
     },
     "execution_count": 24,
     "metadata": {},
     "output_type": "execute_result"
    }
   ],
   "source": [
    "employees.head()"
   ]
  }
 ],
 "metadata": {
  "kernelspec": {
   "display_name": "Python 3",
   "language": "python",
   "name": "python3"
  },
  "language_info": {
   "codemirror_mode": {
    "name": "ipython",
    "version": 3
   },
   "file_extension": ".py",
   "mimetype": "text/x-python",
   "name": "python",
   "nbconvert_exporter": "python",
   "pygments_lexer": "ipython3",
   "version": "3.9.13"
  }
 },
 "nbformat": 4,
 "nbformat_minor": 5
}
